{
 "cells": [
  {
   "cell_type": "code",
   "execution_count": 11,
   "metadata": {},
   "outputs": [],
   "source": [
    "from os import listdir, walk, rename\n",
    "from os.path import isfile, join\n",
    "import glob\n",
    "srcFolder = '/mnt/d/projects/cs230/lfw/'\n",
    "targetFolder = '/mnt/d/projects/cs230/people_images/'\n",
    "\n",
    "f = []\n",
    "for path, subdirs, files in walk(srcFolder):\n",
    "    for name in files:\n",
    "        f_src = join(path, name)\n",
    "        rename(f_src, targetFolder + name)\n"
   ]
  }
 ],
 "metadata": {
  "kernelspec": {
   "display_name": "Python 3",
   "language": "python",
   "name": "python3"
  },
  "language_info": {
   "codemirror_mode": {
    "name": "ipython",
    "version": 3
   },
   "file_extension": ".py",
   "mimetype": "text/x-python",
   "name": "python",
   "nbconvert_exporter": "python",
   "pygments_lexer": "ipython3",
   "version": "3.6.9"
  }
 },
 "nbformat": 4,
 "nbformat_minor": 2
}
