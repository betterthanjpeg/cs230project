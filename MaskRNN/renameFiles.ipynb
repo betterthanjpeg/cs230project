{
 "cells": [
  {
   "cell_type": "code",
   "execution_count": 2,
   "metadata": {},
   "outputs": [],
   "source": [
    "import os, sys\n",
    "\n",
    "IMAGE_DIR = '/mnt/d/projects/cs230/disney_images_cropped/face/completed/'\n",
    "NAMES_DIR = '/mnt/d/projects/cs230/disney_images_cropped_filtered/face/'\n",
    "file_names = next(os.walk(NAMES_DIR))[2]\n",
    "for fn in file_names:\n",
    "    if 'real' in fn: continue\n",
    "    newname = IMAGE_DIR + fn.replace('.jpg', '_fake.jpg')\n",
    "    os.rename(IMAGE_DIR + fn, newname)"
   ]
  }
 ],
 "metadata": {
  "kernelspec": {
   "display_name": "Python 3",
   "language": "python",
   "name": "python3"
  },
  "language_info": {
   "codemirror_mode": {
    "name": "ipython",
    "version": 3
   },
   "file_extension": ".py",
   "mimetype": "text/x-python",
   "name": "python",
   "nbconvert_exporter": "python",
   "pygments_lexer": "ipython3",
   "version": "3.6.9"
  }
 },
 "nbformat": 4,
 "nbformat_minor": 2
}
